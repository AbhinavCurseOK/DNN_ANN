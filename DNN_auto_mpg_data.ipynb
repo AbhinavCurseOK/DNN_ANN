{
  "metadata": {
    "kernelspec": {
      "name": "python3",
      "display_name": "Python 3",
      "language": "python"
    },
    "language_info": {
      "name": "python",
      "version": "3.10.12",
      "mimetype": "text/x-python",
      "codemirror_mode": {
        "name": "ipython",
        "version": 3
      },
      "pygments_lexer": "ipython3",
      "nbconvert_exporter": "python",
      "file_extension": ".py"
    },
    "colab": {
      "provenance": [],
      "gpuType": "T4",
      "name": "DNN_auto_mpg_data",
      "include_colab_link": true
    },
    "accelerator": "GPU",
    "kaggle": {
      "accelerator": "none",
      "dataSources": [
        {
          "sourceId": 10397435,
          "sourceType": "datasetVersion",
          "datasetId": 6442332
        }
      ],
      "dockerImageVersionId": 30822,
      "isInternetEnabled": false,
      "language": "python",
      "sourceType": "notebook",
      "isGpuEnabled": false
    }
  },
  "nbformat_minor": 0,
  "nbformat": 4,
  "cells": [
    {
      "cell_type": "markdown",
      "metadata": {
        "id": "view-in-github",
        "colab_type": "text"
      },
      "source": [
        "<a href=\"https://colab.research.google.com/github/AbhinavCurseOK/DNN_ANN/blob/main/DNN_auto_mpg_data.ipynb\" target=\"_parent\"><img src=\"https://colab.research.google.com/assets/colab-badge.svg\" alt=\"Open In Colab\"/></a>"
      ]
    },
    {
      "source": [
        "# IMPORTANT: SOME KAGGLE DATA SOURCES ARE PRIVATE\n",
        "# RUN THIS CELL IN ORDER TO IMPORT YOUR KAGGLE DATA SOURCES.\n",
        "import kagglehub\n",
        "kagglehub.login()\n"
      ],
      "metadata": {
        "id": "1y9BT5HxJQyG"
      },
      "cell_type": "code",
      "outputs": [],
      "execution_count": null
    },
    {
      "source": [
        "# IMPORTANT: RUN THIS CELL IN ORDER TO IMPORT YOUR KAGGLE DATA SOURCES,\n",
        "# THEN FEEL FREE TO DELETE THIS CELL.\n",
        "# NOTE: THIS NOTEBOOK ENVIRONMENT DIFFERS FROM KAGGLE'S PYTHON\n",
        "# ENVIRONMENT SO THERE MAY BE MISSING LIBRARIES USED BY YOUR\n",
        "# NOTEBOOK.\n",
        "\n",
        "mlabhinavkumar_auto_mpg_path = kagglehub.dataset_download('mlabhinavkumar/auto-mpg')\n",
        "\n",
        "print('Data source import complete.')\n"
      ],
      "metadata": {
        "id": "GCLD8iZ9JQyI"
      },
      "cell_type": "code",
      "outputs": [],
      "execution_count": null
    },
    {
      "cell_type": "code",
      "source": [
        "import pandas as pd\n",
        "column_names = [\n",
        "    \"mpg\", \"cylinders\", \"displacement\", \"horsepower\",\n",
        "    \"weight\", \"acceleration\", \"model_year\", \"origin\", \"car_name\"\n",
        "]\n",
        "df = pd.read_csv(\"/kaggle/input/auto-mpg/auto-mpg.data\", delim_whitespace=True, names=column_names, na_values=\"?\")\n",
        "df.head()"
      ],
      "metadata": {
        "id": "a4_GuNXVOI2s",
        "trusted": true,
        "execution": {
          "iopub.status.busy": "2025-01-07T19:10:05.567244Z",
          "iopub.execute_input": "2025-01-07T19:10:05.567588Z",
          "iopub.status.idle": "2025-01-07T19:10:05.99452Z",
          "shell.execute_reply.started": "2025-01-07T19:10:05.567548Z",
          "shell.execute_reply": "2025-01-07T19:10:05.993371Z"
        }
      },
      "outputs": [],
      "execution_count": null
    },
    {
      "cell_type": "code",
      "source": [
        "df.shape"
      ],
      "metadata": {
        "id": "bYnxTT2-PB2S",
        "trusted": true,
        "execution": {
          "iopub.status.busy": "2025-01-07T19:10:05.996151Z",
          "iopub.execute_input": "2025-01-07T19:10:05.996444Z",
          "iopub.status.idle": "2025-01-07T19:10:06.003539Z",
          "shell.execute_reply.started": "2025-01-07T19:10:05.996415Z",
          "shell.execute_reply": "2025-01-07T19:10:06.002411Z"
        }
      },
      "outputs": [],
      "execution_count": null
    },
    {
      "cell_type": "code",
      "source": [
        "df.info()"
      ],
      "metadata": {
        "id": "OEcZrI1TRL1H",
        "trusted": true,
        "execution": {
          "iopub.status.busy": "2025-01-07T19:10:06.004876Z",
          "iopub.execute_input": "2025-01-07T19:10:06.005283Z",
          "iopub.status.idle": "2025-01-07T19:10:06.046464Z",
          "shell.execute_reply.started": "2025-01-07T19:10:06.005252Z",
          "shell.execute_reply": "2025-01-07T19:10:06.045151Z"
        }
      },
      "outputs": [],
      "execution_count": null
    },
    {
      "cell_type": "code",
      "source": [
        "import numpy as np\n",
        "df.replace(r'^\\s*$', np.nan, regex=True, inplace=True)"
      ],
      "metadata": {
        "id": "bBb7z2A3R5WB",
        "trusted": true,
        "execution": {
          "iopub.status.busy": "2025-01-07T19:10:06.047621Z",
          "iopub.execute_input": "2025-01-07T19:10:06.04803Z",
          "iopub.status.idle": "2025-01-07T19:10:06.054225Z",
          "shell.execute_reply.started": "2025-01-07T19:10:06.047995Z",
          "shell.execute_reply": "2025-01-07T19:10:06.052955Z"
        }
      },
      "outputs": [],
      "execution_count": null
    },
    {
      "cell_type": "code",
      "source": [
        "df.isnull().sum()"
      ],
      "metadata": {
        "id": "-kLMI8pnRh1P",
        "trusted": true,
        "execution": {
          "iopub.status.busy": "2025-01-07T19:10:06.057136Z",
          "iopub.execute_input": "2025-01-07T19:10:06.057443Z",
          "iopub.status.idle": "2025-01-07T19:10:06.077399Z",
          "shell.execute_reply.started": "2025-01-07T19:10:06.057415Z",
          "shell.execute_reply": "2025-01-07T19:10:06.075994Z"
        }
      },
      "outputs": [],
      "execution_count": null
    },
    {
      "cell_type": "code",
      "source": [
        "nan_indices = df[df['horsepower'].isnull()].index\n",
        "print(\"Indices of rows with NaN values in 'horsepower':\")\n",
        "print(nan_indices)"
      ],
      "metadata": {
        "id": "u1A4B_8TYtYb",
        "trusted": true,
        "execution": {
          "iopub.status.busy": "2025-01-07T19:10:06.079754Z",
          "iopub.execute_input": "2025-01-07T19:10:06.080238Z",
          "iopub.status.idle": "2025-01-07T19:10:06.102564Z",
          "shell.execute_reply.started": "2025-01-07T19:10:06.080201Z",
          "shell.execute_reply": "2025-01-07T19:10:06.101336Z"
        }
      },
      "outputs": [],
      "execution_count": null
    },
    {
      "cell_type": "code",
      "source": [
        "nan_rows = df.loc[nan_indices]\n",
        "print(\"Features of rows with NaN values in 'horsepower':\")\n",
        "nan_rows"
      ],
      "metadata": {
        "id": "dOT8mUStZPsm",
        "trusted": true,
        "execution": {
          "iopub.status.busy": "2025-01-07T19:10:06.103963Z",
          "iopub.execute_input": "2025-01-07T19:10:06.104379Z",
          "iopub.status.idle": "2025-01-07T19:10:06.137018Z",
          "shell.execute_reply.started": "2025-01-07T19:10:06.104336Z",
          "shell.execute_reply": "2025-01-07T19:10:06.135624Z"
        }
      },
      "outputs": [],
      "execution_count": null
    },
    {
      "cell_type": "code",
      "source": [
        "from sklearn.impute import KNNImputer\n",
        "imputer = KNNImputer(n_neighbors=5)\n",
        "features = ['cylinders', 'displacement', 'weight', 'acceleration']\n",
        "df[features + ['horsepower']] = imputer.fit_transform(df[features + ['horsepower']])"
      ],
      "metadata": {
        "id": "0lmgfb0DZ345",
        "trusted": true,
        "execution": {
          "iopub.status.busy": "2025-01-07T19:10:06.138107Z",
          "iopub.execute_input": "2025-01-07T19:10:06.138415Z",
          "iopub.status.idle": "2025-01-07T19:10:07.005308Z",
          "shell.execute_reply.started": "2025-01-07T19:10:06.138387Z",
          "shell.execute_reply": "2025-01-07T19:10:07.004102Z"
        }
      },
      "outputs": [],
      "execution_count": null
    },
    {
      "cell_type": "code",
      "source": [
        "nan_rows = df.loc[nan_indices]\n",
        "print(\"Features of rows after replacing NaN values in 'horsepower':\")\n",
        "nan_rows"
      ],
      "metadata": {
        "id": "vo-wZ2M_eMG2",
        "trusted": true,
        "execution": {
          "iopub.status.busy": "2025-01-07T19:10:07.006376Z",
          "iopub.execute_input": "2025-01-07T19:10:07.006976Z",
          "iopub.status.idle": "2025-01-07T19:10:07.024544Z",
          "shell.execute_reply.started": "2025-01-07T19:10:07.006933Z",
          "shell.execute_reply": "2025-01-07T19:10:07.023423Z"
        }
      },
      "outputs": [],
      "execution_count": null
    },
    {
      "cell_type": "code",
      "source": [
        "df = df.drop('car_name', axis = 1)"
      ],
      "metadata": {
        "id": "2jv1uit4VG94",
        "trusted": true,
        "execution": {
          "iopub.status.busy": "2025-01-07T19:10:07.025736Z",
          "iopub.execute_input": "2025-01-07T19:10:07.026054Z",
          "iopub.status.idle": "2025-01-07T19:10:07.043384Z",
          "shell.execute_reply.started": "2025-01-07T19:10:07.026027Z",
          "shell.execute_reply": "2025-01-07T19:10:07.042165Z"
        }
      },
      "outputs": [],
      "execution_count": null
    },
    {
      "cell_type": "code",
      "source": [
        "Q1 = df['horsepower'].quantile(0.25)\n",
        "Q3 = df['horsepower'].quantile(0.75)\n",
        "IQR = Q3 - Q1\n",
        "upper_bound = Q3 + 1.5 * IQR\n",
        "lower_bound = Q1 - 1.5 * IQR\n",
        "outliers = df[(df['horsepower'] < lower_bound) | (df['horsepower'] > upper_bound)]['horsepower']\n",
        "print(\"Outliers in 'horsepower':\")\n",
        "print(outliers)"
      ],
      "metadata": {
        "id": "MlYBnkWYVeAp",
        "trusted": true,
        "execution": {
          "iopub.status.busy": "2025-01-07T19:10:07.04444Z",
          "iopub.execute_input": "2025-01-07T19:10:07.044834Z",
          "iopub.status.idle": "2025-01-07T19:10:07.068539Z",
          "shell.execute_reply.started": "2025-01-07T19:10:07.044791Z",
          "shell.execute_reply": "2025-01-07T19:10:07.067453Z"
        }
      },
      "outputs": [],
      "execution_count": null
    },
    {
      "cell_type": "code",
      "source": [
        "numerical_features = df.select_dtypes(include=['number']).columns\n",
        "for feature in numerical_features:\n",
        "    Q1 = df[feature].quantile(0.25)\n",
        "    Q3 = df[feature].quantile(0.75)\n",
        "    IQR = Q3 - Q1\n",
        "    upper_bound = Q3 + 1.5 * IQR\n",
        "    lower_bound = Q1 - 1.5 * IQR\n",
        "    outliers = df[(df[feature] < lower_bound) | (df[feature] > upper_bound)]\n",
        "    print(f\"Feature: {feature}  ->   Number of Outliers: {len(outliers)}\")"
      ],
      "metadata": {
        "id": "Z1P6hP2MhIxe",
        "trusted": true,
        "execution": {
          "iopub.status.busy": "2025-01-07T19:10:07.069815Z",
          "iopub.execute_input": "2025-01-07T19:10:07.070141Z",
          "iopub.status.idle": "2025-01-07T19:10:07.187009Z",
          "shell.execute_reply.started": "2025-01-07T19:10:07.070114Z",
          "shell.execute_reply": "2025-01-07T19:10:07.185973Z"
        }
      },
      "outputs": [],
      "execution_count": null
    },
    {
      "cell_type": "code",
      "source": [
        "Q1 = df['mpg'].quantile(0.25)\n",
        "Q3 = df['mpg'].quantile(0.75)\n",
        "IQR = Q3 - Q1\n",
        "upper_bound = Q3 + 1.5 * IQR\n",
        "lower_bound = Q1 - 1.5 * IQR\n",
        "df = df[(df['mpg'] >= lower_bound) & (df['mpg'] <= upper_bound)]\n",
        "print(\"Shape of DataFrame after removing 'mpg' outliers:\", df.shape)"
      ],
      "metadata": {
        "id": "BnsmKA3HjDPt",
        "trusted": true,
        "execution": {
          "iopub.status.busy": "2025-01-07T19:10:07.188084Z",
          "iopub.execute_input": "2025-01-07T19:10:07.188444Z",
          "iopub.status.idle": "2025-01-07T19:10:07.200026Z",
          "shell.execute_reply.started": "2025-01-07T19:10:07.1884Z",
          "shell.execute_reply": "2025-01-07T19:10:07.198687Z"
        }
      },
      "outputs": [],
      "execution_count": null
    },
    {
      "cell_type": "code",
      "source": [
        "df['horsepower'].describe()"
      ],
      "metadata": {
        "id": "04qhWRc-W9hb",
        "trusted": true,
        "execution": {
          "iopub.status.busy": "2025-01-07T19:10:07.205647Z",
          "iopub.execute_input": "2025-01-07T19:10:07.206062Z",
          "iopub.status.idle": "2025-01-07T19:10:07.225777Z",
          "shell.execute_reply.started": "2025-01-07T19:10:07.206028Z",
          "shell.execute_reply": "2025-01-07T19:10:07.224661Z"
        }
      },
      "outputs": [],
      "execution_count": null
    },
    {
      "cell_type": "code",
      "source": [
        "print(df['horsepower'].median())"
      ],
      "metadata": {
        "id": "6bsutU-DXEFc",
        "trusted": true,
        "execution": {
          "iopub.status.busy": "2025-01-07T19:10:07.22847Z",
          "iopub.execute_input": "2025-01-07T19:10:07.228959Z",
          "iopub.status.idle": "2025-01-07T19:10:07.250567Z",
          "shell.execute_reply.started": "2025-01-07T19:10:07.228913Z",
          "shell.execute_reply": "2025-01-07T19:10:07.249638Z"
        }
      },
      "outputs": [],
      "execution_count": null
    },
    {
      "cell_type": "code",
      "source": [
        "def detect_outliers_iqr_with_index(data, column):\n",
        "    Q1 = data[column].quantile(0.25)\n",
        "    Q3 = data[column].quantile(0.75)\n",
        "    IQR = Q3 - Q1\n",
        "    upper_bound = Q3 + 1.5 * IQR\n",
        "    lower_bound = Q1 - 1.5 * IQR\n",
        "    outliers = data[(data[column] < lower_bound) | (data[column] > upper_bound)]\n",
        "    print(f\"Outliers in '{column}':\")\n",
        "    for index, row in outliers.iterrows():\n",
        "        print(f\"Index: {index}, {column}: {row[column]}\")\n",
        "    return outliers.index\n",
        "\n",
        "horsepower_outlier_indices = detect_outliers_iqr_with_index(df, 'horsepower')\n",
        "acceleration_outlier_indices = detect_outliers_iqr_with_index(df, 'acceleration')\n",
        "\n",
        "horsepower_outlier_rows = df.loc[horsepower_outlier_indices]\n",
        "print(\"\\nFeatures of rows with horsepower outliers:\")\n",
        "horsepower_outlier_rows"
      ],
      "metadata": {
        "id": "Y737_w9TpyZz",
        "trusted": true,
        "execution": {
          "iopub.status.busy": "2025-01-07T19:10:07.251553Z",
          "iopub.execute_input": "2025-01-07T19:10:07.251865Z",
          "iopub.status.idle": "2025-01-07T19:10:07.299761Z",
          "shell.execute_reply.started": "2025-01-07T19:10:07.251817Z",
          "shell.execute_reply": "2025-01-07T19:10:07.298646Z"
        }
      },
      "outputs": [],
      "execution_count": null
    },
    {
      "cell_type": "code",
      "source": [
        "acceleration_outlier_rows = df.loc[acceleration_outlier_indices]\n",
        "print(\"\\nFeatures of rows with acceleration outliers:\")\n",
        "acceleration_outlier_rows"
      ],
      "metadata": {
        "id": "nye5NmwyqOMs",
        "trusted": true,
        "execution": {
          "iopub.status.busy": "2025-01-07T19:10:07.300788Z",
          "iopub.execute_input": "2025-01-07T19:10:07.301134Z",
          "iopub.status.idle": "2025-01-07T19:10:07.321452Z",
          "shell.execute_reply.started": "2025-01-07T19:10:07.301098Z",
          "shell.execute_reply": "2025-01-07T19:10:07.320145Z"
        }
      },
      "outputs": [],
      "execution_count": null
    },
    {
      "cell_type": "code",
      "source": [
        "from sklearn.linear_model import LinearRegression"
      ],
      "metadata": {
        "id": "kIgxkQbbY3kO",
        "trusted": true,
        "execution": {
          "iopub.status.busy": "2025-01-07T19:10:07.322533Z",
          "iopub.execute_input": "2025-01-07T19:10:07.322902Z",
          "iopub.status.idle": "2025-01-07T19:10:07.337171Z",
          "shell.execute_reply.started": "2025-01-07T19:10:07.322861Z",
          "shell.execute_reply": "2025-01-07T19:10:07.336071Z"
        }
      },
      "outputs": [],
      "execution_count": null
    },
    {
      "cell_type": "code",
      "source": [
        "model_acceleration = LinearRegression()\n",
        "X_acceleration = df[['cylinders', 'displacement', 'horsepower', 'weight', 'mpg']]\n",
        "y_acceleration = df['acceleration']\n",
        "model_acceleration.fit(X_acceleration, y_acceleration)\n",
        "\n",
        "model_horsepower = LinearRegression()\n",
        "X_horsepower = df[['cylinders', 'displacement', 'acceleration', 'weight', 'mpg']]\n",
        "y_horsepower = df['horsepower']\n",
        "model_horsepower.fit(X_horsepower, y_horsepower)\n",
        "\n",
        "for index in acceleration_outlier_indices:\n",
        "    outlier_features = df.loc[index, ['cylinders', 'displacement', 'horsepower', 'weight', 'mpg']]\n",
        "    outlier_features = pd.DataFrame(outlier_features.values.reshape(1, -1),\n",
        "    columns=['cylinders', 'displacement', 'horsepower', 'weight', 'mpg'])\n",
        "    predicted_acceleration = model_acceleration.predict(outlier_features)[0]\n",
        "    df.loc[index, 'acceleration'] = predicted_acceleration\n",
        "\n",
        "for index in horsepower_outlier_indices:\n",
        "    outlier_features = df.loc[index, ['cylinders', 'displacement', 'acceleration', 'weight', 'mpg']]\n",
        "    outlier_features = pd.DataFrame(outlier_features.values.reshape(1, -1),\n",
        "    columns=['cylinders', 'displacement', 'acceleration', 'weight', 'mpg'])\n",
        "    predicted_horsepower = model_horsepower.predict(outlier_features)[0]\n",
        "    df.loc[index, 'horsepower'] = predicted_horsepower"
      ],
      "metadata": {
        "id": "phzzNWa2b9vR",
        "trusted": true,
        "execution": {
          "iopub.status.busy": "2025-01-07T19:10:07.338421Z",
          "iopub.execute_input": "2025-01-07T19:10:07.3388Z",
          "iopub.status.idle": "2025-01-07T19:10:07.420761Z",
          "shell.execute_reply.started": "2025-01-07T19:10:07.338769Z",
          "shell.execute_reply": "2025-01-07T19:10:07.41991Z"
        }
      },
      "outputs": [],
      "execution_count": null
    },
    {
      "cell_type": "code",
      "source": [
        "acceleration_outlier_rows = df.loc[acceleration_outlier_indices]\n",
        "print(\"\\nRows with acceleration first_run_LR model to update  outliers:\")\n",
        "acceleration_outlier_rows"
      ],
      "metadata": {
        "id": "h9Y7qf-oacNZ",
        "trusted": true,
        "execution": {
          "iopub.status.busy": "2025-01-07T19:10:07.421741Z",
          "iopub.execute_input": "2025-01-07T19:10:07.422102Z",
          "iopub.status.idle": "2025-01-07T19:10:07.44019Z",
          "shell.execute_reply.started": "2025-01-07T19:10:07.422075Z",
          "shell.execute_reply": "2025-01-07T19:10:07.439081Z"
        }
      },
      "outputs": [],
      "execution_count": null
    },
    {
      "cell_type": "code",
      "source": [
        "horsepower_outlier_rows = df.loc[horsepower_outlier_indices]\n",
        "print(\"\\nRows with horsepower first_run_LR model to update  outliers:\")\n",
        "horsepower_outlier_rows"
      ],
      "metadata": {
        "id": "_BXaQVwzab9T",
        "trusted": true,
        "execution": {
          "iopub.status.busy": "2025-01-07T19:10:07.44154Z",
          "iopub.execute_input": "2025-01-07T19:10:07.441992Z",
          "iopub.status.idle": "2025-01-07T19:10:07.470938Z",
          "shell.execute_reply.started": "2025-01-07T19:10:07.441952Z",
          "shell.execute_reply": "2025-01-07T19:10:07.469825Z"
        }
      },
      "outputs": [],
      "execution_count": null
    },
    {
      "cell_type": "code",
      "source": [
        "numerical_features = df.select_dtypes(include=['number']).columns\n",
        "for feature in numerical_features:\n",
        "    Q1 = df[feature].quantile(0.25)\n",
        "    Q3 = df[feature].quantile(0.75)\n",
        "    IQR = Q3 - Q1\n",
        "    upper_bound = Q3 + 1.5 * IQR\n",
        "    lower_bound = Q1 - 1.5 * IQR\n",
        "    outliers = df[(df[feature] < lower_bound) | (df[feature] > upper_bound)]\n",
        "    print(f\"Feature: {feature}  ->   Number of Outliers: {len(outliers)}\")"
      ],
      "metadata": {
        "id": "ZO5_KVklh2lR",
        "trusted": true,
        "execution": {
          "iopub.status.busy": "2025-01-07T19:10:07.471982Z",
          "iopub.execute_input": "2025-01-07T19:10:07.47227Z",
          "iopub.status.idle": "2025-01-07T19:10:07.509047Z",
          "shell.execute_reply.started": "2025-01-07T19:10:07.472237Z",
          "shell.execute_reply": "2025-01-07T19:10:07.507963Z"
        }
      },
      "outputs": [],
      "execution_count": null
    },
    {
      "cell_type": "code",
      "source": [
        "def detect_outliers_iqr_with_index(data, column):\n",
        "    Q1 = data[column].quantile(0.25)\n",
        "    Q3 = data[column].quantile(0.75)\n",
        "    IQR = Q3 - Q1\n",
        "    upper_bound = Q3 + 1.5 * IQR\n",
        "    lower_bound = Q1 - 1.5 * IQR\n",
        "    outliers = data[(data[column] < lower_bound) | (data[column] > upper_bound)]\n",
        "    if len(outliers) > 0:\n",
        "        median_value = data[column].median()\n",
        "        data.loc[outliers.index, column] = median_value\n",
        "        print(f\"Outliers in '{column}' replaced with median: {median_value}\")\n",
        "    else:\n",
        "        print(f\"No outliers found in '{column}'\")\n",
        "detect_outliers_iqr_with_index(df, 'acceleration')"
      ],
      "metadata": {
        "id": "aZr5YnDckCtD",
        "trusted": true,
        "execution": {
          "iopub.status.busy": "2025-01-07T19:10:07.51006Z",
          "iopub.execute_input": "2025-01-07T19:10:07.51035Z",
          "iopub.status.idle": "2025-01-07T19:10:07.522622Z",
          "shell.execute_reply.started": "2025-01-07T19:10:07.510322Z",
          "shell.execute_reply": "2025-01-07T19:10:07.521618Z"
        }
      },
      "outputs": [],
      "execution_count": null
    },
    {
      "cell_type": "code",
      "source": [
        "X = df.drop('mpg', axis=1)\n",
        "y = df['mpg']"
      ],
      "metadata": {
        "id": "RR-3DORsqaAx",
        "trusted": true,
        "execution": {
          "iopub.status.busy": "2025-01-07T19:10:07.523922Z",
          "iopub.execute_input": "2025-01-07T19:10:07.524341Z",
          "iopub.status.idle": "2025-01-07T19:10:07.544458Z",
          "shell.execute_reply.started": "2025-01-07T19:10:07.524297Z",
          "shell.execute_reply": "2025-01-07T19:10:07.543413Z"
        }
      },
      "outputs": [],
      "execution_count": null
    },
    {
      "cell_type": "code",
      "source": [
        "import seaborn as sns\n",
        "import matplotlib.pyplot as plt\n",
        "correlation_matrix = X.corr()\n",
        "plt.figure(figsize=(8, 6))\n",
        "sns.heatmap(correlation_matrix, annot=True, cmap='coolwarm', fmt=\".2f\")\n",
        "plt.title(\"Correlation Heatmap of Features\")\n",
        "plt.show()"
      ],
      "metadata": {
        "id": "L1hD9HfnsZz3",
        "trusted": true,
        "execution": {
          "iopub.status.busy": "2025-01-07T19:10:07.545717Z",
          "iopub.execute_input": "2025-01-07T19:10:07.546152Z",
          "iopub.status.idle": "2025-01-07T19:10:08.441266Z",
          "shell.execute_reply.started": "2025-01-07T19:10:07.546107Z",
          "shell.execute_reply": "2025-01-07T19:10:08.440209Z"
        }
      },
      "outputs": [],
      "execution_count": null
    },
    {
      "cell_type": "code",
      "source": [
        "from sklearn.model_selection import train_test_split\n",
        "X_train, X_test, y_train, y_test = train_test_split(X, y, test_size=0.2, random_state=42)"
      ],
      "metadata": {
        "id": "K44WRtWXqeHP",
        "trusted": true,
        "execution": {
          "iopub.status.busy": "2025-01-07T19:10:08.442733Z",
          "iopub.execute_input": "2025-01-07T19:10:08.443399Z",
          "iopub.status.idle": "2025-01-07T19:10:08.453617Z",
          "shell.execute_reply.started": "2025-01-07T19:10:08.443354Z",
          "shell.execute_reply": "2025-01-07T19:10:08.452539Z"
        }
      },
      "outputs": [],
      "execution_count": null
    },
    {
      "cell_type": "code",
      "source": [
        "from sklearn.preprocessing import StandardScaler\n",
        "scaler = StandardScaler()\n",
        "X_train = scaler.fit_transform(X_train)\n",
        "X_test = scaler.transform(X_test)"
      ],
      "metadata": {
        "id": "u5gB2ERWrZuG",
        "trusted": true,
        "execution": {
          "iopub.status.busy": "2025-01-07T19:10:08.454904Z",
          "iopub.execute_input": "2025-01-07T19:10:08.455191Z",
          "iopub.status.idle": "2025-01-07T19:10:08.479348Z",
          "shell.execute_reply.started": "2025-01-07T19:10:08.455166Z",
          "shell.execute_reply": "2025-01-07T19:10:08.478114Z"
        }
      },
      "outputs": [],
      "execution_count": null
    },
    {
      "cell_type": "code",
      "source": [
        "import tensorflow as tf"
      ],
      "metadata": {
        "id": "fgvursUrXQFH",
        "trusted": true,
        "execution": {
          "iopub.status.busy": "2025-01-07T19:10:08.480521Z",
          "iopub.execute_input": "2025-01-07T19:10:08.480932Z",
          "iopub.status.idle": "2025-01-07T19:10:18.542212Z",
          "shell.execute_reply.started": "2025-01-07T19:10:08.480887Z",
          "shell.execute_reply": "2025-01-07T19:10:18.54107Z"
        }
      },
      "outputs": [],
      "execution_count": null
    },
    {
      "cell_type": "code",
      "source": [
        "model_t = tf.keras.models.Sequential([\n",
        "    tf.keras.layers.Dense(64, activation='relu', input_shape=(X_train.shape[1],)),\n",
        "    tf.keras.layers.Dense(32, activation='relu'),\n",
        "    tf.keras.layers.Dense(8, activation='relu'),\n",
        "    tf.keras.layers.Dense(1)\n",
        "])"
      ],
      "metadata": {
        "id": "dVr4IJqeWu43",
        "trusted": true,
        "execution": {
          "iopub.status.busy": "2025-01-07T19:10:18.543505Z",
          "iopub.execute_input": "2025-01-07T19:10:18.54418Z",
          "iopub.status.idle": "2025-01-07T19:10:18.675174Z",
          "shell.execute_reply.started": "2025-01-07T19:10:18.544148Z",
          "shell.execute_reply": "2025-01-07T19:10:18.673953Z"
        }
      },
      "outputs": [],
      "execution_count": null
    },
    {
      "cell_type": "code",
      "source": [
        "model_t.summary()"
      ],
      "metadata": {
        "id": "4MNwkxVjaDTL",
        "trusted": true,
        "execution": {
          "iopub.status.busy": "2025-01-07T19:10:18.676163Z",
          "iopub.execute_input": "2025-01-07T19:10:18.676435Z",
          "iopub.status.idle": "2025-01-07T19:10:18.697658Z",
          "shell.execute_reply.started": "2025-01-07T19:10:18.67641Z",
          "shell.execute_reply": "2025-01-07T19:10:18.69629Z"
        }
      },
      "outputs": [],
      "execution_count": null
    },
    {
      "cell_type": "code",
      "source": [
        "learning_rate = 0.0005\n",
        "optimizer = tf.keras.optimizers.Adam(learning_rate=learning_rate)"
      ],
      "metadata": {
        "id": "FwF_oGUSY6Sy",
        "trusted": true,
        "execution": {
          "iopub.status.busy": "2025-01-07T19:10:18.69858Z",
          "iopub.execute_input": "2025-01-07T19:10:18.698862Z",
          "iopub.status.idle": "2025-01-07T19:10:18.710366Z",
          "shell.execute_reply.started": "2025-01-07T19:10:18.698815Z",
          "shell.execute_reply": "2025-01-07T19:10:18.709258Z"
        }
      },
      "outputs": [],
      "execution_count": null
    },
    {
      "cell_type": "code",
      "source": [
        "#Compile the model\n",
        "model_t.compile(optimizer, loss='mean_squared_error', metrics=['mae', 'mse'])"
      ],
      "metadata": {
        "id": "NUYSVXPzFaOa",
        "trusted": true,
        "execution": {
          "iopub.status.busy": "2025-01-07T19:10:18.711537Z",
          "iopub.execute_input": "2025-01-07T19:10:18.712154Z",
          "iopub.status.idle": "2025-01-07T19:10:18.729183Z",
          "shell.execute_reply.started": "2025-01-07T19:10:18.712107Z",
          "shell.execute_reply": "2025-01-07T19:10:18.728064Z"
        }
      },
      "outputs": [],
      "execution_count": null
    },
    {
      "cell_type": "code",
      "source": [
        "# Train the model\n",
        "model_t.fit(X_train, y_train, epochs=50, batch_size=16)"
      ],
      "metadata": {
        "id": "gdwpCaAVXhu6",
        "trusted": true,
        "execution": {
          "iopub.status.busy": "2025-01-07T19:10:18.730209Z",
          "iopub.execute_input": "2025-01-07T19:10:18.730627Z",
          "iopub.status.idle": "2025-01-07T19:10:23.376797Z",
          "shell.execute_reply.started": "2025-01-07T19:10:18.730593Z",
          "shell.execute_reply": "2025-01-07T19:10:23.375449Z"
        }
      },
      "outputs": [],
      "execution_count": null
    },
    {
      "cell_type": "code",
      "source": [
        "#Evaluate the model\n",
        "loss = model_t.evaluate(X_test, y_test)\n",
        "print('Mean Squared Error:', loss)"
      ],
      "metadata": {
        "id": "F_CdSDD5Xk36",
        "trusted": true,
        "execution": {
          "iopub.status.busy": "2025-01-07T19:10:23.377964Z",
          "iopub.execute_input": "2025-01-07T19:10:23.378353Z",
          "iopub.status.idle": "2025-01-07T19:10:23.596901Z",
          "shell.execute_reply.started": "2025-01-07T19:10:23.37832Z",
          "shell.execute_reply": "2025-01-07T19:10:23.595936Z"
        }
      },
      "outputs": [],
      "execution_count": null
    },
    {
      "cell_type": "code",
      "source": [
        "#Predictions\n",
        "predictions = model_t.predict(X_test)"
      ],
      "metadata": {
        "id": "49gEaL2PYWza",
        "trusted": true,
        "execution": {
          "iopub.status.busy": "2025-01-07T19:10:23.597972Z",
          "iopub.execute_input": "2025-01-07T19:10:23.598353Z",
          "iopub.status.idle": "2025-01-07T19:10:23.763332Z",
          "shell.execute_reply.started": "2025-01-07T19:10:23.598304Z",
          "shell.execute_reply": "2025-01-07T19:10:23.762241Z"
        }
      },
      "outputs": [],
      "execution_count": null
    },
    {
      "cell_type": "code",
      "source": [
        "max_mpg = df['mpg'].max()\n",
        "min_mpg = df['mpg'].min()\n",
        "\n",
        "print(\"Maximum mpg:\", max_mpg)\n",
        "print(\"Minimum mpg:\", min_mpg)"
      ],
      "metadata": {
        "id": "0LLWEOWvb1EI",
        "trusted": true,
        "execution": {
          "iopub.status.busy": "2025-01-07T19:10:23.764741Z",
          "iopub.execute_input": "2025-01-07T19:10:23.765098Z",
          "iopub.status.idle": "2025-01-07T19:10:23.771326Z",
          "shell.execute_reply.started": "2025-01-07T19:10:23.765066Z",
          "shell.execute_reply": "2025-01-07T19:10:23.770302Z"
        }
      },
      "outputs": [],
      "execution_count": null
    },
    {
      "cell_type": "code",
      "source": [
        "learning_rate = 0.006\n",
        "optimizer = tf.keras.optimizers.Adam(learning_rate=learning_rate)"
      ],
      "metadata": {
        "id": "Jk1YK-v3b8za",
        "trusted": true,
        "execution": {
          "iopub.status.busy": "2025-01-07T19:10:23.772586Z",
          "iopub.execute_input": "2025-01-07T19:10:23.772981Z",
          "iopub.status.idle": "2025-01-07T19:10:23.800314Z",
          "shell.execute_reply.started": "2025-01-07T19:10:23.772939Z",
          "shell.execute_reply": "2025-01-07T19:10:23.799123Z"
        }
      },
      "outputs": [],
      "execution_count": null
    },
    {
      "cell_type": "code",
      "source": [
        "model_n = tf.keras.models.Sequential([\n",
        "    tf.keras.layers.Dense(64, activation='relu', input_shape=(X_train.shape[1],)),\n",
        "    tf.keras.layers.Dense(32, activation='relu'),\n",
        "    tf.keras.layers.Dense(8, activation='relu'),\n",
        "    tf.keras.layers.Dense(1)\n",
        "])"
      ],
      "metadata": {
        "id": "t-HSEmXWcJSj",
        "trusted": true,
        "execution": {
          "iopub.status.busy": "2025-01-07T19:10:23.801618Z",
          "iopub.execute_input": "2025-01-07T19:10:23.801957Z",
          "iopub.status.idle": "2025-01-07T19:10:23.852109Z",
          "shell.execute_reply.started": "2025-01-07T19:10:23.801925Z",
          "shell.execute_reply": "2025-01-07T19:10:23.850695Z"
        }
      },
      "outputs": [],
      "execution_count": null
    },
    {
      "cell_type": "code",
      "source": [
        "model_n.compile(optimizer, loss='mean_squared_error', metrics=['mae', 'mse'])\n",
        "model_n.fit(X_train, y_train, epochs=50, batch_size=16)"
      ],
      "metadata": {
        "id": "hIGXKktecLpi",
        "trusted": true,
        "execution": {
          "iopub.status.busy": "2025-01-07T19:10:23.853046Z",
          "iopub.execute_input": "2025-01-07T19:10:23.853299Z",
          "iopub.status.idle": "2025-01-07T19:10:28.304726Z",
          "shell.execute_reply.started": "2025-01-07T19:10:23.853276Z",
          "shell.execute_reply": "2025-01-07T19:10:28.303755Z"
        }
      },
      "outputs": [],
      "execution_count": null
    },
    {
      "cell_type": "code",
      "source": [
        "loss = model_n.evaluate(X_test, y_test)\n",
        "print('Mean Squared Error:', loss)"
      ],
      "metadata": {
        "id": "dpFbnFAYcTrU",
        "trusted": true,
        "execution": {
          "iopub.status.busy": "2025-01-07T19:10:28.305751Z",
          "iopub.execute_input": "2025-01-07T19:10:28.306109Z",
          "iopub.status.idle": "2025-01-07T19:10:28.529Z",
          "shell.execute_reply.started": "2025-01-07T19:10:28.306074Z",
          "shell.execute_reply": "2025-01-07T19:10:28.527575Z"
        }
      },
      "outputs": [],
      "execution_count": null
    },
    {
      "cell_type": "code",
      "source": [
        "predictions = model_n.predict(X_test)"
      ],
      "metadata": {
        "id": "HmPJ-G46fHYW",
        "trusted": true,
        "execution": {
          "iopub.status.busy": "2025-01-07T19:10:28.534738Z",
          "iopub.execute_input": "2025-01-07T19:10:28.535072Z",
          "iopub.status.idle": "2025-01-07T19:10:28.696079Z",
          "shell.execute_reply.started": "2025-01-07T19:10:28.535042Z",
          "shell.execute_reply": "2025-01-07T19:10:28.694989Z"
        }
      },
      "outputs": [],
      "execution_count": null
    },
    {
      "cell_type": "code",
      "source": [
        "from tensorflow.keras.optimizers import Adam\n",
        "from tensorflow.keras.layers import Dense\n",
        "model_1 = tf.keras.models.Sequential()\n",
        "model_1 = tf.keras.models.Sequential()\n",
        "model_1.add(Dense(64, activation='relu', input_shape=(X_train.shape[1],)))\n",
        "model_1.add(Dense(32, activation='relu'))\n",
        "model_1.add(Dense(8, activation='relu'))\n",
        "model_1.add(Dense(1))\n",
        "learning_rate = 0.006\n",
        "optimizer = Adam(learning_rate=learning_rate)\n",
        "model_1.compile(optimizer=optimizer, loss='mean_squared_error', metrics=['mae', 'mse'])\n",
        "model_1.fit(X_train, y_train, epochs=50, batch_size=16)"
      ],
      "metadata": {
        "id": "SX_8YPaGfl9t",
        "trusted": true,
        "execution": {
          "iopub.status.busy": "2025-01-07T19:10:28.698233Z",
          "iopub.execute_input": "2025-01-07T19:10:28.698685Z",
          "iopub.status.idle": "2025-01-07T19:10:33.301145Z",
          "shell.execute_reply.started": "2025-01-07T19:10:28.69864Z",
          "shell.execute_reply": "2025-01-07T19:10:33.300038Z"
        }
      },
      "outputs": [],
      "execution_count": null
    },
    {
      "cell_type": "code",
      "source": [
        "model_1.evaluate(X_test, y_test)\n",
        "print('Mean Squared Error:', loss)"
      ],
      "metadata": {
        "id": "FxKSAc6LiMNa",
        "trusted": true,
        "execution": {
          "iopub.status.busy": "2025-01-07T19:10:33.302197Z",
          "iopub.execute_input": "2025-01-07T19:10:33.302489Z",
          "iopub.status.idle": "2025-01-07T19:10:33.522009Z",
          "shell.execute_reply.started": "2025-01-07T19:10:33.302463Z",
          "shell.execute_reply": "2025-01-07T19:10:33.520966Z"
        }
      },
      "outputs": [],
      "execution_count": null
    },
    {
      "cell_type": "code",
      "source": [
        "X_train.shape"
      ],
      "metadata": {
        "id": "XloAD_afhysx",
        "trusted": true,
        "execution": {
          "iopub.status.busy": "2025-01-07T19:10:33.522992Z",
          "iopub.execute_input": "2025-01-07T19:10:33.523344Z",
          "iopub.status.idle": "2025-01-07T19:10:33.529493Z",
          "shell.execute_reply.started": "2025-01-07T19:10:33.523313Z",
          "shell.execute_reply": "2025-01-07T19:10:33.528479Z"
        }
      },
      "outputs": [],
      "execution_count": null
    },
    {
      "cell_type": "code",
      "source": [
        "from tensorflow.keras.optimizers import Adam\n",
        "from tensorflow.keras.layers import Dense\n",
        "model_2 = tf.keras.models.Sequential()\n",
        "model_2.add(Dense(64, activation='relu', input_shape=(X_train.shape[1],)))\n",
        "model_2.add(Dense(32, activation='relu'))\n",
        "model_2.add(Dense(16, activation='relu'))\n",
        "model_2.add(Dense(8, activation='relu'))\n",
        "model_2.add(Dense(1))\n",
        "learning_rate = 0.006\n",
        "optimizer = Adam(learning_rate=learning_rate)\n",
        "model_2.compile(optimizer=optimizer, loss='mean_squared_error', metrics=['mae', 'mse'])\n",
        "model_2.fit(X_train, y_train, epochs=50, batch_size=16)"
      ],
      "metadata": {
        "id": "74yWoR6Lhnzu",
        "trusted": true,
        "execution": {
          "iopub.status.busy": "2025-01-07T19:10:33.530756Z",
          "iopub.execute_input": "2025-01-07T19:10:33.531112Z",
          "iopub.status.idle": "2025-01-07T19:10:38.314176Z",
          "shell.execute_reply.started": "2025-01-07T19:10:33.531081Z",
          "shell.execute_reply": "2025-01-07T19:10:38.313114Z"
        }
      },
      "outputs": [],
      "execution_count": null
    },
    {
      "cell_type": "code",
      "source": [
        "model_2.evaluate(X_test, y_test)\n",
        "print('Mean Squared Error:', loss)"
      ],
      "metadata": {
        "id": "78TaRt1ph-Pv",
        "trusted": true,
        "execution": {
          "iopub.status.busy": "2025-01-07T19:10:38.315239Z",
          "iopub.execute_input": "2025-01-07T19:10:38.315609Z",
          "iopub.status.idle": "2025-01-07T19:10:38.546043Z",
          "shell.execute_reply.started": "2025-01-07T19:10:38.31555Z",
          "shell.execute_reply": "2025-01-07T19:10:38.544934Z"
        }
      },
      "outputs": [],
      "execution_count": null
    },
    {
      "cell_type": "code",
      "source": [
        "from tensorflow.keras.optimizers import Adam\n",
        "from tensorflow.keras.layers import Dense\n",
        "from tensorflow.keras import regularizers\n",
        "from tensorflow.keras.optimizers import RMSprop, SGD, Adadelta, Adagrad, Adamax, Nadam\n",
        "model_2 = tf.keras.models.Sequential()\n",
        "model_2.add(Dense(128, activation='relu',kernel_regularizer=regularizers.l2(0.006),  input_shape=(X_train.shape[1],)))\n",
        "model_2.add(Dense(128, activation='relu'))\n",
        "model_2.add(Dense(64, activation='relu'))\n",
        "model_2.add(Dense(64, activation='relu'))\n",
        "model_2.add(Dense(32, activation='relu'))\n",
        "model_2.add(Dense(32, activation='relu'))\n",
        "model_2.add(Dense(16, activation='relu'))\n",
        "model_2.add(Dense(8, activation='relu'))\n",
        "model_2.add(Dense(1))\n",
        "learning_rate = 0.002\n",
        "optimizer = Nadam(learning_rate=learning_rate)\n",
        "#optimizer = Adam(learning_rate=learning_rate)\n",
        "model_2.compile(optimizer=optimizer, loss='mean_squared_error', metrics=['mae', 'mse'])\n",
        "model_2.fit(X_train, y_train, epochs=50, batch_size=16)"
      ],
      "metadata": {
        "id": "Vb2blD0SkuR9",
        "trusted": true,
        "execution": {
          "iopub.status.busy": "2025-01-07T19:10:38.547199Z",
          "iopub.execute_input": "2025-01-07T19:10:38.547608Z",
          "iopub.status.idle": "2025-01-07T19:10:45.722722Z",
          "shell.execute_reply.started": "2025-01-07T19:10:38.547566Z",
          "shell.execute_reply": "2025-01-07T19:10:45.721793Z"
        }
      },
      "outputs": [],
      "execution_count": null
    },
    {
      "cell_type": "code",
      "source": [
        "model_2.evaluate(X_test, y_test)\n",
        "print('Mean Squared Error:', loss)"
      ],
      "metadata": {
        "id": "4rlNk4ZulK5y",
        "trusted": true,
        "execution": {
          "iopub.status.busy": "2025-01-07T19:10:45.723773Z",
          "iopub.execute_input": "2025-01-07T19:10:45.724097Z",
          "iopub.status.idle": "2025-01-07T19:10:45.991534Z",
          "shell.execute_reply.started": "2025-01-07T19:10:45.72407Z",
          "shell.execute_reply": "2025-01-07T19:10:45.990346Z"
        }
      },
      "outputs": [],
      "execution_count": null
    },
    {
      "cell_type": "code",
      "source": [
        "predictions = model_2.predict(X_test)"
      ],
      "metadata": {
        "id": "xQV_iPV8t90y",
        "trusted": true,
        "execution": {
          "iopub.status.busy": "2025-01-07T19:13:46.300094Z",
          "iopub.execute_input": "2025-01-07T19:13:46.300492Z",
          "iopub.status.idle": "2025-01-07T19:13:46.381679Z",
          "shell.execute_reply.started": "2025-01-07T19:13:46.300453Z",
          "shell.execute_reply": "2025-01-07T19:13:46.380443Z"
        }
      },
      "outputs": [],
      "execution_count": null
    },
    {
      "cell_type": "code",
      "source": [
        "print(\"Predictions:\", predictions[:5])"
      ],
      "metadata": {
        "id": "sir6BuGduDWs",
        "trusted": true,
        "execution": {
          "iopub.status.busy": "2025-01-07T19:14:00.929865Z",
          "iopub.execute_input": "2025-01-07T19:14:00.930313Z",
          "iopub.status.idle": "2025-01-07T19:14:00.937727Z",
          "shell.execute_reply.started": "2025-01-07T19:14:00.930273Z",
          "shell.execute_reply": "2025-01-07T19:14:00.936435Z"
        }
      },
      "outputs": [],
      "execution_count": null
    },
    {
      "cell_type": "code",
      "source": [
        "import matplotlib.pyplot as plt\n",
        "import numpy as np\n",
        "plt.figure(figsize=(8, 6))\n",
        "plt.scatter(y_test, predictions, alpha=0.5)\n",
        "plt.xlabel(\"Actual MPG\")\n",
        "plt.ylabel(\"Predicted MPG\")\n",
        "plt.title(\"Scatter Plot of Predictions vs. Actual Values\")\n",
        "predictions_1d = predictions.flatten()\n",
        "plt.plot(np.unique(y_test), np.poly1d(np.polyfit(y_test, predictions_1d, 1))(np.unique(y_test)), color='red')\n",
        "plt.show()"
      ],
      "metadata": {
        "id": "VNcOklcUv_Hr",
        "trusted": true,
        "execution": {
          "iopub.status.busy": "2025-01-07T19:14:13.697135Z",
          "iopub.execute_input": "2025-01-07T19:14:13.697505Z",
          "iopub.status.idle": "2025-01-07T19:14:13.989914Z",
          "shell.execute_reply.started": "2025-01-07T19:14:13.697472Z",
          "shell.execute_reply": "2025-01-07T19:14:13.988533Z"
        }
      },
      "outputs": [],
      "execution_count": null
    },
    {
      "cell_type": "code",
      "source": [
        "# 2. Residual Plot:\n",
        "residuals = y_test - predictions.flatten()\n",
        "plt.figure(figsize=(8, 6))\n",
        "plt.scatter(predictions, residuals, alpha=0.5)\n",
        "plt.xlabel(\"Predicted MPG\")\n",
        "plt.ylabel(\"Residuals\")\n",
        "plt.title(\"Residual Plot\")\n",
        "plt.axhline(y=0, color='red', linestyle='--')\n",
        "plt.show()"
      ],
      "metadata": {
        "id": "hRMiP913vw4m",
        "trusted": true,
        "execution": {
          "iopub.status.busy": "2025-01-07T19:10:46.55246Z",
          "iopub.execute_input": "2025-01-07T19:10:46.552878Z",
          "iopub.status.idle": "2025-01-07T19:10:46.841051Z",
          "shell.execute_reply.started": "2025-01-07T19:10:46.552814Z",
          "shell.execute_reply": "2025-01-07T19:10:46.839953Z"
        }
      },
      "outputs": [],
      "execution_count": null
    },
    {
      "cell_type": "code",
      "source": [
        "#Histogram of Residuals:\n",
        "plt.figure(figsize=(8, 6))\n",
        "plt.hist(residuals, bins=20)\n",
        "plt.xlabel(\"Residuals\")\n",
        "plt.ylabel(\"Frequency\")\n",
        "plt.title(\"Histogram of Residuals\")\n",
        "plt.show()"
      ],
      "metadata": {
        "id": "qlczcKleujFu",
        "trusted": true,
        "execution": {
          "iopub.status.busy": "2025-01-07T19:10:46.84218Z",
          "iopub.execute_input": "2025-01-07T19:10:46.842476Z",
          "iopub.status.idle": "2025-01-07T19:10:47.143686Z",
          "shell.execute_reply.started": "2025-01-07T19:10:46.842449Z",
          "shell.execute_reply": "2025-01-07T19:10:47.142589Z"
        }
      },
      "outputs": [],
      "execution_count": null
    },
    {
      "cell_type": "code",
      "source": [
        "results_df = pd.DataFrame({'Predicted MPG': predictions.flatten(), 'Original MPG': y_test.values})\n",
        "results_df.head()"
      ],
      "metadata": {
        "id": "Lz4Wf-UmweXM",
        "trusted": true,
        "execution": {
          "iopub.status.busy": "2025-01-07T19:15:02.846605Z",
          "iopub.execute_input": "2025-01-07T19:15:02.846989Z",
          "iopub.status.idle": "2025-01-07T19:15:02.857737Z",
          "shell.execute_reply.started": "2025-01-07T19:15:02.846959Z",
          "shell.execute_reply": "2025-01-07T19:15:02.856584Z"
        }
      },
      "outputs": [],
      "execution_count": null
    }
  ]
}